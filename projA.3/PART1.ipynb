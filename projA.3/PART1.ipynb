{
 "cells": [
  {
   "cell_type": "markdown",
   "metadata": {},
   "source": [
    "# Proj A for CS 135 in Spring 2024\n",
    "\n",
    "This notebook is specifically for the report related to Problem 1\n",
    "\n",
    "# Problem 1: Binary Classifier for Bag of Words Classifier"
   ]
  },
  {
   "cell_type": "markdown",
   "metadata": {},
   "source": [
    "Export the data for loading model later"
   ]
  },
  {
   "cell_type": "code",
   "execution_count": 97,
   "metadata": {},
   "outputs": [],
   "source": [
    "#imports\n",
    "import numpy as np\n",
    "import pandas as pd"
   ]
  },
  {
   "cell_type": "code",
   "execution_count": 98,
   "metadata": {},
   "outputs": [],
   "source": [
    "x_train_df = pd.read_csv('./data_reviews/x_train.csv')\n",
    "tr_text_list = x_train_df.values.tolist()\n",
    "\n",
    "y_train_df = pd.read_csv('./data_reviews/y_train.csv')\n",
    "tr_label_list = y_train_df.values.tolist()"
   ]
  },
  {
   "cell_type": "markdown",
   "metadata": {},
   "source": [
    "## Stopwords\n",
    "Here, we will work to remove stop words as they do not provide us much information."
   ]
  },
  {
   "cell_type": "code",
   "execution_count": 99,
   "metadata": {},
   "outputs": [],
   "source": [
    "# def remove_stopwords(text):\n",
    "#     \"\"\"\n",
    "#     Function to remove stopwords from a given text using a custom list of stopwords.\n",
    "#     \"\"\"\n",
    "#     #define stop words\n",
    "#     stop_words = ['call', 'upon', 'still', 'nevertheless', 'down', 'every', 'forty', '‘re', 'always', 'whole', 'side', \"n't\", 'now', 'however', 'an', 'show', 'least', 'give', 'below', 'did', 'sometimes', 'which', \"'s\", 'nowhere', 'per', 'hereupon', 'yours', 'she', 'moreover', 'eight', 'somewhere', 'within', 'whereby', 'few', 'has', 'so', 'have', 'for', 'noone', 'top', 'were', 'those', 'thence', 'eleven', 'after', 'no', '’ll', 'others', 'ourselves', 'themselves', 'though', 'that', 'nor', 'just', '’s', 'before', 'had', 'toward', 'another', 'should', 'herself', 'and', 'these', 'such', 'elsewhere', 'further', 'next', 'indeed', 'bottom', 'anyone', 'his', 'each', 'then', 'both', 'became', 'third', 'whom', '‘ve', 'mine', 'take', 'many', 'anywhere', 'to', 'well', 'thereafter', 'besides', 'almost', 'front', 'fifteen', 'towards', 'none', 'be', 'herein', 'two', 'using', 'whatever', 'please', 'perhaps', 'full', 'ca', 'we', 'latterly', 'here', 'therefore', 'us', 'how', 'was', 'made', 'the', 'or', 'may', '’re', 'namely', \"'ve\", 'anyway', 'amongst', 'used', 'ever', 'of', 'there', 'than', 'why', 'really', 'whither', 'in', 'only', 'wherein', 'last', 'under', 'own', 'therein', 'go', 'seems', '‘m', 'wherever', 'either', 'someone', 'up', 'doing', 'on', 'rather', 'ours', 'again', 'same', 'over', '‘s', 'latter', 'during', 'done', \"'re\", 'put', \"'m\", 'much', 'neither', 'among', 'seemed', 'into', 'once', 'my', 'otherwise', 'part', 'everywhere', 'never', 'myself', 'must', 'will', 'am', 'can', 'else', 'although', 'as', 'beyond', 'are', 'too', 'becomes', 'does', 'a', 'everyone', 'but', 'some', 'regarding', '‘ll', 'against', 'throughout', 'yourselves', 'him', \"'d\", 'it', 'himself', 'whether', 'move', '’m', 'hereafter', 're', 'while', 'whoever', 'your', 'first', 'amount', 'twelve', 'serious', 'other', 'any', 'off', 'seeming', 'four', 'itself', 'nothing', 'beforehand', 'make', 'out', 'very', 'already', 'various', 'until', 'hers', 'they', 'not', 'them', 'where', 'would', 'since', 'everything', 'at', 'together', 'yet', 'more', 'six', 'back', 'with', 'thereupon', 'becoming', 'around', 'due', 'keep', 'somehow', 'n‘t', 'across', 'all', 'when', 'i', 'empty', 'nine', 'five', 'get', 'see', 'been', 'name', 'between', 'hence', 'ten', 'several', 'from', 'whereupon', 'through', 'hereby', \"'ll\", 'alone', 'something', 'formerly', 'without', 'above', 'onto', 'except', 'enough', 'become', 'behind', '’d', 'its', 'most', 'n’t', 'might', 'whereas', 'anything', 'if', 'her', 'via', 'fifty', 'is', 'thereby', 'twenty', 'often', 'whereafter', 'their', 'also', 'anyhow', 'cannot', 'our', 'could', 'because', 'who', 'beside', 'by', 'whence', 'being', 'meanwhile', 'this', 'afterwards', 'whenever', 'mostly', 'what', 'one', 'nobody', 'seem', 'less', 'do', '‘d', 'say', 'thus', 'unless', 'along', 'yourself', 'former', 'thru', 'he', 'hundred', 'three', 'sixty', 'me', 'sometime', 'whose', 'you', 'quite', '’ve', 'about', 'even']\n",
    "#     # Tokenize the text\n",
    "#     words = text.split()\n",
    "#     # Filter out stopwords\n",
    "#     filtered_words = [word for word in words if word.lower() not in stop_words]\n",
    "#     # Join filtered words back into a single string\n",
    "#     filtered_text = ' '.join(filtered_words)\n",
    "#     return filtered_text"
   ]
  },
  {
   "cell_type": "code",
   "execution_count": 100,
   "metadata": {},
   "outputs": [],
   "source": [
    "import pickle\n",
    "\n",
    "\n",
    "exp_arr = x_train_df.values.tolist()\n",
    "\n",
    "\n",
    "# Use pickle to serialize and save 'x_train_df' to a file\n",
    "with open('data_variable.pickle', 'wb') as f:\n",
    "    pickle.dump(exp_arr, f)\n"
   ]
  },
  {
   "cell_type": "code",
   "execution_count": 101,
   "metadata": {},
   "outputs": [],
   "source": [
    "import string\n",
    "\n",
    "#define function that will remove punctuation in dataframe\n",
    "def remove_punctuations(text):\n",
    "    for punctuation in string.punctuation:\n",
    "\n",
    "        #replace any punctuation with the empty string\n",
    "        text = text.replace(punctuation, '')\n",
    "    return text"
   ]
  },
  {
   "cell_type": "code",
   "execution_count": 102,
   "metadata": {},
   "outputs": [],
   "source": [
    "# make sure all words are lowercase\n",
    "x_train_df['text'] = x_train_df['text'].apply(lambda x: x.lower())\n",
    "\n",
    "# remove punctuation\n",
    "x_train_df['text'] = x_train_df['text'].apply(remove_punctuations)\n",
    "\n",
    "# # remove stopwords\n",
    "# x_train_df['text'] = x_train_df['text'].apply(remove_stopwords)\n",
    "# print(type(x_train_df['text']))"
   ]
  },
  {
   "cell_type": "code",
   "execution_count": 103,
   "metadata": {},
   "outputs": [],
   "source": [
    "# Sending the y_train_df to a pickle file\n",
    "\n",
    "y_train_1d_tmp = np.ravel(y_train_df)\n",
    "\n",
    "with open(('y_train_1d.pickle'), 'wb') as f:\n",
    "    pickle.dump(y_train_1d_tmp, f)\n"
   ]
  },
  {
   "cell_type": "code",
   "execution_count": 104,
   "metadata": {},
   "outputs": [],
   "source": [
    "from sklearn.feature_extraction.text import CountVectorizer\n",
    "import nltk\n",
    "from nltk.corpus import stopwords"
   ]
  },
  {
   "cell_type": "code",
   "execution_count": 105,
   "metadata": {},
   "outputs": [
    {
     "name": "stderr",
     "output_type": "stream",
     "text": [
      "[nltk_data] Downloading package stopwords to\n",
      "[nltk_data]     /Users/josephmontalto/nltk_data...\n",
      "[nltk_data]   Package stopwords is already up-to-date!\n"
     ]
    }
   ],
   "source": [
    "nltk.download('stopwords')\n",
    "# stop_words = set(stopwords.words('english'))  # Assuming NLTK's stopwords are used\n",
    "\n",
    "vectorizer = CountVectorizer(stop_words='english')"
   ]
  },
  {
   "cell_type": "code",
   "execution_count": 106,
   "metadata": {},
   "outputs": [
    {
     "name": "stdout",
     "output_type": "stream",
     "text": [
      "(2400, 4424)\n"
     ]
    }
   ],
   "source": [
    "\n",
    "\n",
    "#create a sparse matrix, where rows are our sentences and columns are words\n",
    "freq_matrix = vectorizer.fit_transform(x_train_df['text'])\n",
    "\n",
    "#get list of words alphabetically in our data\n",
    "word_features = vectorizer.get_feature_names_out()\n",
    "\n",
    "print(freq_matrix.shape)\n",
    "\n",
    "# Print the entire list of words and frequncies:\n",
    "# np.set_printoptions(threshold=np.inf)\n",
    "# print(word_features)"
   ]
  },
  {
   "cell_type": "code",
   "execution_count": 107,
   "metadata": {},
   "outputs": [],
   "source": [
    "# Use pickle to serialize and save our model to a file\n",
    "with open('vectorizer.pickle', 'wb') as f:\n",
    "    pickle.dump(vectorizer, f)\n"
   ]
  },
  {
   "cell_type": "markdown",
   "metadata": {},
   "source": []
  },
  {
   "cell_type": "code",
   "execution_count": 108,
   "metadata": {},
   "outputs": [
    {
     "name": "stdout",
     "output_type": "stream",
     "text": [
      "0       oh and i forgot to also mention the weird colo...\n",
      "1                              that one didnt work either\n",
      "2                                       waste of 13 bucks\n",
      "3       product is useless since it does not have enou...\n",
      "4       none of the three sizes they sent with the hea...\n",
      "                              ...                        \n",
      "2395    the sweet potato fries were very nice and seas...\n",
      "2396    i could eat their bruschetta all day it is devine\n",
      "2397                                  ambience is perfect\n",
      "2398    we ordered the duck rare and it was pink and t...\n",
      "2399          service was nice and the company was better\n",
      "Name: text, Length: 2400, dtype: object\n"
     ]
    }
   ],
   "source": [
    "print(x_train_df['text'])"
   ]
  },
  {
   "cell_type": "markdown",
   "metadata": {},
   "source": [
    "# Split into train and test"
   ]
  },
  {
   "cell_type": "code",
   "execution_count": 109,
   "metadata": {},
   "outputs": [],
   "source": [
    "from sklearn.model_selection import train_test_split\n",
    "from sklearn.linear_model import LogisticRegression\n",
    "import sklearn\n",
    "from proba_metrics import calc_mean_binary_cross_entropy_from_probas\n",
    "from sklearn.model_selection import cross_val_score\n",
    "from sklearn.linear_model import LogisticRegression\n"
   ]
  },
  {
   "cell_type": "code",
   "execution_count": 110,
   "metadata": {},
   "outputs": [],
   "source": [
    "#import plotting libraries\n",
    "import matplotlib.pyplot as plt"
   ]
  },
  {
   "cell_type": "code",
   "execution_count": 111,
   "metadata": {},
   "outputs": [],
   "source": [
    "#make frequency matrix array-like\n",
    "X = freq_matrix.toarray()\n",
    "\n",
    "\n",
    "# split into training and temporary set (combined validation and test)\n",
    "X_train, X_temp, y_train, y_temp = sklearn.model_selection.train_test_split(X, y_train_df, test_size=0.4, random_state=42)\n",
    "\n",
    "\n",
    "# Now split the temporary set into validation and test sets\n",
    "X_val, X_test, y_val, y_test = train_test_split(X_temp, y_temp, test_size=0.5, random_state=42)\n"
   ]
  },
  {
   "cell_type": "markdown",
   "metadata": {},
   "source": [
    "# Finding our ideal C\n",
    "In this step, we wanted to find the right C value to use in our logistic regression model. To do this, we used some of our code from HW2, which defines a grid of C values and tests BCE on all of these values. We extract the minimum valid error, and using that value as well as some additional context, determine our ideal C.\n"
   ]
  },
  {
   "cell_type": "code",
   "execution_count": 112,
   "metadata": {},
   "outputs": [],
   "source": [
    "C_grid = np.logspace(-9, 6, 31)\n",
    "\n",
    "\n",
    "#use np.ravel to convert arrays to 1d\n",
    "y_train_1d = np.ravel(y_train)\n",
    "y_val_1d = np.ravel(y_val)\n",
    "\n",
    "crossv_scores = list()\n",
    "\n",
    "# Allocate list for storing LR models\n",
    "model_list = list()\n",
    "\n",
    "# Allocate lists for storing BCE metrics\n",
    "tr_bce_list = list()\n",
    "va_bce_list = list()\n",
    "te_bce_list = list()\n",
    "\n",
    "# Allocate lists for storing ERROR RATE metrics\n",
    "tr_err_list = list()\n",
    "va_err_list = list()\n",
    "te_err_list = list()\n",
    "\n",
    "num_iterations = 1000000\n",
    "\n",
    "for C in C_grid:\n",
    "    lr_curr_model = LogisticRegression(solver='lbfgs', C=C, max_iter=num_iterations)\n",
    "    lr_curr_model.fit(X_train, y_train_1d)\n",
    "\n",
    "    # append model to list\n",
    "    model_list.append(lr_curr_model)\n",
    "\n",
    "    yproba1_tr_M = lr_curr_model.predict_proba(X_train)[:,1] # The probability of predicting class 1 on the training set\n",
    "    yproba1_va_N = lr_curr_model.predict_proba(X_val)[:,1] # The probability of predicting class 1 on the validation set\n",
    "\n",
    "    # Compute error rate aka zero-one loss\n",
    "    my_tr_err = sklearn.metrics.zero_one_loss(y_train_1d, yproba1_tr_M >= 0.5)\n",
    "    my_va_err = sklearn.metrics.zero_one_loss(y_val_1d, yproba1_va_N >= 0.5)\n",
    "    tr_err_list.append(my_tr_err)\n",
    "    va_err_list.append(my_va_err)\n",
    "\n",
    "    # Compute binary cross-entropy\n",
    "    my_tr_bce = calc_mean_binary_cross_entropy_from_probas(y_train_1d, yproba1_tr_M)\n",
    "    my_va_bce = calc_mean_binary_cross_entropy_from_probas(y_val_1d, yproba1_va_N)\n",
    "\n",
    "    # Cross validation score\n",
    "    scores = cross_val_score(lr_curr_model, X_train, y_train_1d, cv=3, scoring='accuracy')\n",
    "\n",
    "\n",
    "    # Save bce for future selection on Models.\n",
    "    tr_bce_list.append(my_tr_bce) \n",
    "    va_bce_list.append(my_va_bce) \n",
    "\n",
    "    crossv_scores.append(scores.mean())\n"
   ]
  },
  {
   "cell_type": "code",
   "execution_count": 113,
   "metadata": {},
   "outputs": [
    {
     "data": {
      "image/png": "[encoded data removed]",
      "text/plain": [
       "<Figure size 640x480 with 1 Axes>"
      ]
     },
     "metadata": {},
     "output_type": "display_data"
    }
   ],
   "source": [
    "# Plot the error rate and BCE for the training and validation sets\n",
    "\n",
    "plt.plot(np.log10(C_grid), tr_bce_list, 'bs-', label='train BCE')\n",
    "plt.plot(np.log10(C_grid), va_bce_list, 'rs-', label='valid BCE')\n",
    "\n",
    "plt.plot(np.log10(C_grid), tr_err_list, 'b:', label='train err')\n",
    "plt.plot(np.log10(C_grid), va_err_list, 'r:', label='valid err')\n",
    "\n",
    "plt.ylabel('error')\n",
    "plt.xlabel(\"$\\log_{10} C$\");\n",
    "plt.legend(bbox_to_anchor=(1.5, 0.5)) # make legend outside plot\n",
    "plt.ylim([-0.5, 4]);\n"
   ]
  },
  {
   "cell_type": "markdown",
   "metadata": {},
   "source": [
    "Finding the best model"
   ]
  },
  {
   "cell_type": "code",
   "execution_count": 114,
   "metadata": {},
   "outputs": [
    {
     "name": "stdout",
     "output_type": "stream",
     "text": [
      "Best C value for BCE: 3.1622776601683795\n",
      "Best C values for Cross Validation: 3.1622776601683795\n"
     ]
    }
   ],
   "source": [
    "min_bce_index = np.argmin(va_bce_list)\n",
    "max_crossv_index = np.argmax(crossv_scores)\n",
    "best_C_bce = C_grid[min_bce_index]\n",
    "best_C_crossv = C_grid[max_crossv_index]\n",
    "\n",
    "print(f\"Best C value for BCE: {best_C_bce}\")\n",
    "print(f\"Best C values for Cross Validation: {best_C_crossv}\")\n",
    "\n"
   ]
  },
  {
   "cell_type": "markdown",
   "metadata": {},
   "source": [
    "# Running Logistic regression - No penalty\n",
    "With our ideal C picked out, we felt comfortable proceeding and building our logistic regression model."
   ]
  },
  {
   "cell_type": "code",
   "execution_count": 115,
   "metadata": {},
   "outputs": [],
   "source": [
    "#create logistic regression object\n",
    "regr = LogisticRegression(max_iter=num_iterations, random_state=42, solver='lbfgs', penalty = None)\n",
    "\n",
    "#fit regression on training data\n",
    "regr.fit(X_train, y_train_1d)\n",
    "\n",
    "#get predictions\n",
    "y_pred = regr.predict(X_test)"
   ]
  },
  {
   "cell_type": "code",
   "execution_count": 116,
   "metadata": {},
   "outputs": [
    {
     "name": "stdout",
     "output_type": "stream",
     "text": [
      "LogisticRegression(max_iter=1000000, penalty=None, random_state=42)\n"
     ]
    }
   ],
   "source": [
    "print(regr)\n"
   ]
  },
  {
   "cell_type": "markdown",
   "metadata": {},
   "source": [
    "Importing sklearn documentation for confusion matrix.\n"
   ]
  },
  {
   "cell_type": "code",
   "execution_count": 117,
   "metadata": {},
   "outputs": [
    {
     "data": {
      "text/plain": [
       "array([[198,  48],\n",
       "       [ 57, 177]])"
      ]
     },
     "execution_count": 117,
     "metadata": {},
     "output_type": "execute_result"
    }
   ],
   "source": [
    "#import confusion matrix function\n",
    "from sklearn.metrics import confusion_matrix\n",
    "\n",
    "#get confusion matrix\n",
    "conf_matrix = confusion_matrix(y_test, y_pred)\n",
    "conf_matrix"
   ]
  },
  {
   "cell_type": "code",
   "execution_count": 118,
   "metadata": {},
   "outputs": [],
   "source": [
    "from sklearn.model_selection import cross_val_score\n",
    "from sklearn.linear_model import LogisticRegression"
   ]
  },
  {
   "cell_type": "code",
   "execution_count": 119,
   "metadata": {},
   "outputs": [
    {
     "name": "stdout",
     "output_type": "stream",
     "text": [
      "Cross-validation scores: [0.73 0.72 0.76]\n",
      "Mean cross-validation score: 0.74\n"
     ]
    }
   ],
   "source": [
    "# Perform 3-fold cross-validation\n",
    "scores = cross_val_score(regr, X_train, y_train_1d, cv=3, scoring='accuracy')\n",
    "\n",
    "# Print the cross-validation scores\n",
    "print(\"Cross-validation scores:\", scores.round(2))\n",
    "print(\"Mean cross-validation score:\", scores.mean().round(2))"
   ]
  },
  {
   "cell_type": "markdown",
   "metadata": {},
   "source": [
    "# Running Logistic regression - L1 penalty\n",
    "We now try the same process, applying an L1 penalty."
   ]
  },
  {
   "cell_type": "code",
   "execution_count": 120,
   "metadata": {},
   "outputs": [],
   "source": [
    "# #create logistic regression object\n",
    "# regr = LogisticRegression(max_iter=num_iterations, random_state=42, C=best_C_crossv, penalty='l1', solver = 'saga')\n",
    "\n",
    "# #fit regression on training data\n",
    "# print(X.shape[1])\n",
    "# regr.fit(X, y_train_1d)\n",
    "\n",
    "# #get predictions\n",
    "# y_pred = regr.predict(X_test)"
   ]
  },
  {
   "cell_type": "code",
   "execution_count": 121,
   "metadata": {},
   "outputs": [
    {
     "data": {
      "text/plain": [
       "array([[198,  48],\n",
       "       [ 57, 177]])"
      ]
     },
     "execution_count": 121,
     "metadata": {},
     "output_type": "execute_result"
    }
   ],
   "source": [
    "#import confusion matrix function\n",
    "from sklearn.metrics import confusion_matrix\n",
    "\n",
    "#get confusion matrix\n",
    "conf_matrix = confusion_matrix(y_test, y_pred)\n",
    "conf_matrix\n"
   ]
  },
  {
   "cell_type": "code",
   "execution_count": 122,
   "metadata": {},
   "outputs": [
    {
     "name": "stdout",
     "output_type": "stream",
     "text": [
      "Cross-validation scores: [0.73 0.72 0.76]\n",
      "Mean cross-validation score: 0.74\n"
     ]
    }
   ],
   "source": [
    "# Perform 3-fold cross-validation\n",
    "scores = cross_val_score(regr, X_train, y_train_1d, cv=3, scoring='accuracy')\n",
    "\n",
    "# Print the cross-validation scores\n",
    "print(\"Cross-validation scores:\", scores.round(2))\n",
    "print(\"Mean cross-validation score:\", scores.mean().round(2))"
   ]
  },
  {
   "cell_type": "markdown",
   "metadata": {},
   "source": [
    "# Running Logistic regression - L2 penalty\n",
    "We now try the same process, applying an L2 penalty."
   ]
  },
  {
   "cell_type": "code",
   "execution_count": 123,
   "metadata": {},
   "outputs": [
    {
     "name": "stdout",
     "output_type": "stream",
     "text": [
      "(2400, 4424)\n"
     ]
    },
    {
     "name": "stderr",
     "output_type": "stream",
     "text": [
      "/Users/josephmontalto/miniconda3/envs/cs135_env/lib/python3.10/site-packages/sklearn/linear_model/_sag.py:350: ConvergenceWarning: The max_iter was reached which means the coef_ did not converge\n",
      "  warnings.warn(\n"
     ]
    }
   ],
   "source": [
    "#create logistic regression object\n",
    "regr = LogisticRegression(max_iter=50, random_state=42, C=1.0, solver='saga', penalty='l2')\n",
    "print(X.shape)\n",
    "\n",
    "#fit regression on training data\n",
    "regr.fit(freq_matrix, y_train_1d_tmp)\n",
    "\n",
    "# print(X.shape)\n",
    "\n",
    "#get predictions\n",
    "y_pred = regr.predict(X_test)"
   ]
  },
  {
   "cell_type": "code",
   "execution_count": 124,
   "metadata": {},
   "outputs": [
    {
     "data": {
      "text/plain": [
       "array([[236,  10],\n",
       "       [  2, 232]])"
      ]
     },
     "execution_count": 124,
     "metadata": {},
     "output_type": "execute_result"
    }
   ],
   "source": [
    "#import confusion matrix function\n",
    "from sklearn.metrics import confusion_matrix\n",
    "\n",
    "#get confusion matrix\n",
    "conf_matrix = confusion_matrix(y_test, y_pred)\n",
    "conf_matrix"
   ]
  },
  {
   "cell_type": "code",
   "execution_count": 125,
   "metadata": {},
   "outputs": [
    {
     "name": "stdout",
     "output_type": "stream",
     "text": [
      "Cross-validation scores: [0.76 0.7  0.72]\n",
      "Mean cross-validation score: 0.72\n"
     ]
    },
    {
     "name": "stderr",
     "output_type": "stream",
     "text": [
      "/Users/josephmontalto/miniconda3/envs/cs135_env/lib/python3.10/site-packages/sklearn/linear_model/_sag.py:350: ConvergenceWarning: The max_iter was reached which means the coef_ did not converge\n",
      "  warnings.warn(\n",
      "/Users/josephmontalto/miniconda3/envs/cs135_env/lib/python3.10/site-packages/sklearn/linear_model/_sag.py:350: ConvergenceWarning: The max_iter was reached which means the coef_ did not converge\n",
      "  warnings.warn(\n",
      "/Users/josephmontalto/miniconda3/envs/cs135_env/lib/python3.10/site-packages/sklearn/linear_model/_sag.py:350: ConvergenceWarning: The max_iter was reached which means the coef_ did not converge\n",
      "  warnings.warn(\n"
     ]
    }
   ],
   "source": [
    "# Perform 3-fold cross-validation\n",
    "scores = cross_val_score(regr, freq_matrix, y_train_1d_tmp, cv=3, scoring='accuracy')\n",
    "\n",
    "# Print the cross-validation scores\n",
    "print(\"Cross-validation scores:\", scores.round(2))\n",
    "print(\"Mean cross-validation score:\", scores.mean().round(2))"
   ]
  },
  {
   "cell_type": "markdown",
   "metadata": {},
   "source": [
    "Through our testing, we decided the best set of hyperparameters was to use an L2 penalty with a C = 0.1."
   ]
  },
  {
   "cell_type": "code",
   "execution_count": 126,
   "metadata": {},
   "outputs": [],
   "source": [
    "# classifier1 = LogisticRegression(max_iter= num_iterations, random_state=42, C=best_C_crossv, solver='lbfgs')\n",
    "# classifier1.fit(X_train, y_train_1d)\n",
    "\n",
    "# Use pickle to serialize and save our model to a file\n",
    "with open('best_model.pickle', 'wb') as f:\n",
    "    pickle.dump(regr, f)\n",
    "\n"
   ]
  },
  {
   "cell_type": "markdown",
   "metadata": {},
   "source": []
  }
 ],
 "metadata": {
  "kernelspec": {
   "display_name": "cs135_env",
   "language": "python",
   "name": "python3"
  },
  "language_info": {
   "codemirror_mode": {
    "name": "ipython",
    "version": 3
   },
   "file_extension": ".py",
   "mimetype": "text/x-python",
   "name": "python",
   "nbconvert_exporter": "python",
   "pygments_lexer": "ipython3",
   "version": "3.10.13"
  }
 },
 "nbformat": 4,
 "nbformat_minor": 2
}
